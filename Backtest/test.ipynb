{
 "metadata": {
  "language_info": {
   "codemirror_mode": {
    "name": "ipython",
    "version": 3
   },
   "file_extension": ".py",
   "mimetype": "text/x-python",
   "name": "python",
   "nbconvert_exporter": "python",
   "pygments_lexer": "ipython3",
   "version": "3.8.5-final"
  },
  "orig_nbformat": 2,
  "kernelspec": {
   "name": "python3",
   "display_name": "Python 3.8.5 64-bit ('base': conda)",
   "metadata": {
    "interpreter": {
     "hash": "e4d9122d53dd16625a915e8d8bbf84fe864fd8d18c5070d04980e5b155c95570"
    }
   }
  }
 },
 "nbformat": 4,
 "nbformat_minor": 2,
 "cells": [
  {
   "cell_type": "code",
   "execution_count": 5,
   "metadata": {},
   "outputs": [
    {
     "output_type": "error",
     "ename": "IndentationError",
     "evalue": "unexpected indent (CSVDataPreparer.py, line 1)",
     "traceback": [
      "Traceback \u001b[0;36m(most recent call last)\u001b[0m:\n",
      "  File \u001b[1;32m\"/Users/mr.kjn/opt/anaconda3/lib/python3.8/site-packages/IPython/core/interactiveshell.py\"\u001b[0m, line \u001b[1;32m3418\u001b[0m, in \u001b[1;35mrun_code\u001b[0m\n    exec(code_obj, self.user_global_ns, self.user_ns)\n",
      "  File \u001b[1;32m\"<ipython-input-5-31701a1aa625>\"\u001b[0m, line \u001b[1;32m1\u001b[0m, in \u001b[1;35m<module>\u001b[0m\n    from data_prep.CSVDataPreparer import *\n",
      "\u001b[0;36m  File \u001b[0;32m\"/Users/mr.kjn/Projects/PyStonk/Backtest/data_prep/__init__.py\"\u001b[0;36m, line \u001b[0;32m1\u001b[0;36m, in \u001b[0;35m<module>\u001b[0;36m\u001b[0m\n\u001b[0;31m    from .CSVDataPreparer import CSVDataPreparer\u001b[0m\n",
      "\u001b[0;36m  File \u001b[0;32m\"/Users/mr.kjn/Projects/PyStonk/Backtest/data_prep/CSVDataPreparer.py\"\u001b[0;36m, line \u001b[0;32m1\u001b[0m\n\u001b[0;31m    import os\u001b[0m\n\u001b[0m    ^\u001b[0m\n\u001b[0;31mIndentationError\u001b[0m\u001b[0;31m:\u001b[0m unexpected indent\n"
     ]
    }
   ],
   "source": [
    "from data_prep.CSVDataPreparer import *\n",
    "csv_dir = '/Users/mr.kjn/Projects/Studienarbeit/backtest_data'\n",
    "\n",
    "symbols = [\"AAPL\", \"IBM\"]\n",
    "csvDP = CSVDataPreparer(csv_dir=csv_dir, csv_symbols=symbols)\n",
    "\n",
    "csvDP.get_assets_historic_closes('2011-10-01', '2021-12-31', ['AAPL'])\n",
    "\n",
    "\n",
    "#print(csvDP.asset_dfs.loc[\"Close\"])"
   ]
  },
  {
   "cell_type": "code",
   "execution_count": 29,
   "metadata": {},
   "outputs": [
    {
     "output_type": "stream",
     "name": "stdout",
     "text": [
      "[Date\n1990-01-02 00:00:00+00:00      0.266804\n1990-01-03 00:00:00+00:00      0.268595\n1990-01-04 00:00:00+00:00      0.269490\n1990-01-05 00:00:00+00:00      0.270386\n1990-01-08 00:00:00+00:00      0.272176\n                                ...    \n2021-10-07 00:00:00+00:00    143.290000\n2021-10-08 00:00:00+00:00    142.900000\n2021-10-11 00:00:00+00:00    142.810000\n2021-10-12 00:00:00+00:00    141.510000\n2021-10-13 00:00:00+00:00    140.910000\nName: Close, Length: 8009, dtype: float64, Date\n1990-01-03 00:00:00+00:00     11.941294\n1990-01-04 00:00:00+00:00     12.077162\n1990-01-05 00:00:00+00:00     12.046968\n1990-01-08 00:00:00+00:00     12.122451\n1990-01-09 00:00:00+00:00     12.001679\n                                ...    \n2021-10-07 00:00:00+00:00    141.810000\n2021-10-08 00:00:00+00:00    143.220000\n2021-10-11 00:00:00+00:00    142.430000\n2021-10-12 00:00:00+00:00    140.470000\n2021-10-13 00:00:00+00:00    140.760000\nName: Close, Length: 8008, dtype: float64]\n"
     ]
    }
   ],
   "source": [
    "print(closes_list)"
   ]
  },
  {
   "cell_type": "code",
   "execution_count": 2,
   "metadata": {},
   "outputs": [
    {
     "output_type": "execute_result",
     "data": {
      "text/plain": [
       "1"
      ]
     },
     "metadata": {},
     "execution_count": 2
    }
   ],
   "source": [
    "con = True\n",
    "\n",
    "x = 1 if con else -1\n",
    "\n",
    "x"
   ]
  },
  {
   "cell_type": "code",
   "execution_count": 4,
   "metadata": {},
   "outputs": [
    {
     "output_type": "stream",
     "name": "stdout",
     "text": [
      "2018-01-01    1.0\n2018-01-02    NaN\n2018-01-03    NaN\n2018-01-04    NaN\n2018-01-05    NaN\n2018-01-06    NaN\n2018-01-07    NaN\n2018-01-08    NaN\nFreq: D, dtype: float64\n"
     ]
    }
   ],
   "source": [
    "import pandas as pd \n",
    "\n",
    "dates = pd.date_range(start='1/1/2018', end='1/08/2018')\n",
    "series = pd.Series(index=dates)\n",
    "series['1/1/2018'] = 1\n",
    "print(series)"
   ]
  },
  {
   "cell_type": "code",
   "execution_count": 1,
   "metadata": {},
   "outputs": [
    {
     "output_type": "execute_result",
     "data": {
      "text/plain": [
       "nan"
      ]
     },
     "metadata": {},
     "execution_count": 1
    }
   ],
   "source": [
    "import numpy as np\n",
    "\n",
    "np.nan"
   ]
  },
  {
   "cell_type": "code",
   "execution_count": null,
   "metadata": {},
   "outputs": [],
   "source": []
  }
 ]
}