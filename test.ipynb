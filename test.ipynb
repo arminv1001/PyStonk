{
 "cells": [
  {
   "cell_type": "code",
   "execution_count": 1,
   "metadata": {},
   "outputs": [
    {
     "name": "stdout",
     "output_type": "stream",
     "text": [
      "3.9833333333333334\n",
      "test\n"
     ]
    }
   ],
   "source": [
    "import schedule\n",
    "import datetime\n",
    "import time\n",
    "\n",
    "def job():\n",
    "    print(\"I'm working...\")\n",
    "\n",
    "\n",
    "now = datetime.datetime.now()\n",
    "print(((((5-(now.minute % 5))-1) * 60) + (60-now.second))/60)\n",
    "#time.sleep((((5-(now.minute % 5))-1) * 60) + (60-now.second))\n",
    "print(\"test\")\n",
    "#schedule.every(5).minutes.do(job)\n",
    "\n",
    "while False:\n",
    "    schedule.run_pending()\n",
    "    time.sleep(1)"
   ]
  },
  {
   "cell_type": "code",
   "execution_count": 2,
   "metadata": {},
   "outputs": [],
   "source": [
    "def synchonizerMinute(timeFrame):\n",
    "    # Alles über h1 funktioniert nicht\n",
    "    now = datetime.datetime.now()\n",
    "    print(((((timeFrame-(now.minute % timeFrame))-1) * 60) + (60-now.second))/60)\n",
    "    time.sleep(((((timeFrame-(now.minute % timeFrame))-1) * 60) + (60-now.second)))\n",
    "\n",
    "def startScheduler(timeFrame, weekend_trading=False):\n",
    "    if (not weekend_trading) and datetime.datetime.today().weekday() >=  5:\n",
    "        now = datetime.datetime.now()\n",
    "        if now.hours == 23:\n",
    "            if now.minute <= 50:\n",
    "                time.sleep((now.minute - 1) * 60)\n",
    "            else:\n",
    "                print(\"System startet gleich\")\n",
    "                ## System wird gleich starten\n",
    "        else: \n",
    "            time.sleep((24-now.hours-1) * 60*60)\n",
    "    elif (datetime.datetime.today().weekday() < 5) or weekend_trading:\n",
    "        print(\"set\")\n",
    "        scheduler.enter(60*timeFrame, 1, print_event, ('first',))\n",
    "    \n"
   ]
  },
  {
   "cell_type": "code",
   "execution_count": 3,
   "metadata": {},
   "outputs": [
    {
     "name": "stdout",
     "output_type": "stream",
     "text": [
      "2\n",
      "3.9833333333333334\n",
      "fertig\n",
      "3.9833333333333334\n",
      "EVENT: 2021-11-17 00:35:00.458364\n",
      "set\n"
     ]
    }
   ],
   "source": [
    "import sched\n",
    "import time\n",
    "\n",
    "scheduler = sched.scheduler(time.time, time.sleep)\n",
    "\n",
    "def print_event():\n",
    "    print ('EVENT:', datetime.datetime.now())\n",
    "    startScheduler(5)\n",
    "\n",
    "timeFrame = 5\n",
    "print (datetime.datetime.today().weekday())\n",
    "now = datetime.datetime.now()\n",
    "print(((((5-(now.minute % 5))-1) * 60) + (60-now.second))/60)\n",
    "print(\"fertig\")\n",
    "synchonizerMinute(timeFrame)\n",
    "scheduler.enter(60*timeFrame, 1, print_event, ())\n",
    "\n",
    "\n",
    "scheduler.run()\n",
    "print(\"test\")"
   ]
  }
 ],
 "metadata": {
  "interpreter": {
   "hash": "d17ebe4c8765afdff5fde09f2fddd391f499efd5eff350ab0287190e2e1417f3"
  },
  "kernelspec": {
   "display_name": "Python 3.7.7 64-bit ('venv': venv)",
   "language": "python",
   "name": "python3"
  },
  "language_info": {
   "codemirror_mode": {
    "name": "ipython",
    "version": 3
   },
   "file_extension": ".py",
   "mimetype": "text/x-python",
   "name": "python",
   "nbconvert_exporter": "python",
   "pygments_lexer": "ipython3",
   "version": "3.7.7"
  },
  "orig_nbformat": 4
 },
 "nbformat": 4,
 "nbformat_minor": 2
}
